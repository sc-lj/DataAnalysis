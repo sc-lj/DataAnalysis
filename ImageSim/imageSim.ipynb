{
 "cells": [
  {
   "cell_type": "heading",
   "metadata": {
    "collapsed": true
   },
   "level": 1,
   "source": [
    "Dhash算法识别图像相似度,即差异hash"
   ]
  },
  {
   "cell_type": "code",
   "execution_count": 20,
   "metadata": {},
   "outputs": [],
   "source": [
    "from PIL import Image\n",
    "from PIL import ImageFilter\n",
    "from PIL import ImageOps\n",
    "import math\n",
    "\n",
    "def get_code(List,middle):\n",
    "\tresult = []\n",
    "\tfor index in range(0,len(List)):\n",
    "\t\tif List[index] > middle:\n",
    "\t\t\tresult.append(\"1\")\n",
    "\t\telse:\n",
    "\t\t\tresult.append(\"0\")\n",
    "\treturn result\n",
    "\n",
    "\n",
    "def comp_code(code1,code2):\n",
    "\tnum = 0\n",
    "\tfor index in range(0,len(code1)):\n",
    "\t\tif str(code1[index]) != str(code2[index]):\n",
    "\t\t\tnum+=1\n",
    "\treturn num \n",
    "\n",
    "def get_middle(List):\n",
    "\tli = List.copy()\n",
    "\tli.sort()\n",
    "\tif len(li)%2==0:\n",
    "\t\tindex = int((len(li)/2)) - 1\n",
    "\t\tvalue = li[index]\n",
    "\telse:\n",
    "\t\tindex = int((len(li)/2))\n",
    "\t\tvalue = (li[index]+li[index-1])/2\n",
    "\treturn value\n",
    "\n",
    "\n",
    "def get_matrix(image):\n",
    "\tmatrix = []\n",
    "\tsize = image.size\n",
    "\tfor height in range(0,size[1]):\n",
    "\t\tpixel = []\n",
    "\t\tfor width in range(0,size[0]):\n",
    "\t\t\tpixel_value = image.getpixel((width,height))\n",
    "\t\t\tpixel.append(pixel_value)\n",
    "\t\tmatrix.append(pixel)\t\n",
    "\treturn matrix\n",
    "\n",
    "\n",
    "def get_coefficient(n):\n",
    "\tmatrix = []\n",
    "\tPI = math.pi\n",
    "\tsqr = math.sqrt(1/n)\n",
    "\tvalue = []\n",
    "\tfor i in range(0,n):\n",
    "\t\tvalue.append(sqr)\n",
    "\tmatrix.append(value)\n",
    "\n",
    "\tfor i in range(1,n):\n",
    "\t\tvalue=[]\n",
    "\t\tfor j in range (0,n):\n",
    "\t\t\tdata = math.sqrt(2.0/n) * math.cos(i*PI*(j+0.5)/n)\n",
    "\t\t\tvalue.append(data)\n",
    "\t\tmatrix.append(value)\n",
    "\treturn matrix\n",
    "\n",
    "\n",
    "def get_transposing(matrix):\n",
    "\tnew_matrix = []\n",
    "\tfor i in range(0,len(matrix)):\n",
    "\t\tvalue = []\n",
    "\t\tfor j in range(0,len(matrix[i])):\n",
    "\t\t\tvalue.append(matrix[j][i])\n",
    "\t\tnew_matrix.append(value)\n",
    "\treturn new_matrix\n",
    "\n",
    "def get_mult(matrix1,matrix2):\n",
    "\tnew_matrix = []\n",
    "\n",
    "\tfor i in range(0,len(matrix1)):\n",
    "\t\tvalue_list = []\n",
    "\t\tfor j in range(0,len(matrix1)): \n",
    "\t\t\tt = 0.0\n",
    "\t\t\tfor k in range(0,len(matrix1)):\n",
    "\t\t\t\tt += matrix1[i][k] * matrix2[k][j]\n",
    "\t\t\tvalue_list.append(t)\n",
    "\t\tnew_matrix.append(value_list)\n",
    "\treturn new_matrix\n",
    "\n",
    "def DCT(double_matrix):\n",
    "\tn = len(double_matrix)\n",
    "\tA = get_coefficient(n)\n",
    "\tAT = get_transposing(A)\n",
    "\ttemp = get_mult(double_matrix, A)\n",
    "\tDCT_matrix = get_mult(temp, AT)\n",
    "\treturn DCT_matrix\n",
    "\t\n",
    "def sub_matrix_to_list(DCT_matrix,part_size):\n",
    "\tw,h = part_size\n",
    "\tList = []\n",
    "\tfor i in range(0,h):\n",
    "\t\tfor j in range(0,w):\n",
    "\t\t\tList.append(DCT_matrix[i][j])\n",
    "\treturn List\n",
    "\n",
    "\n",
    "def classify_DCT(image1,image2,size=(32,32),part_size=(8,8)):\n",
    "\tassert size[0]==size[1],\"size error\"\n",
    "\tassert part_size[0]==part_size[1],\"part_size error\"\n",
    "\n",
    "\timage1 = image1.convert('L').resize(size,Image.ANTIALIAS).filter(ImageFilter.BLUR)\n",
    "\timage1 = ImageOps.equalize(image1)\n",
    "\tmatrix = get_matrix(image1)\n",
    "\tDCT_matrix = DCT(matrix)\n",
    "\tList = sub_matrix_to_list(DCT_matrix, part_size)\n",
    "\tmiddle = get_middle(List)\n",
    "\tcode1 = get_code(List, middle)\n",
    "\n",
    "\timage2 = image2.convert('L').resize(size,Image.ANTIALIAS).filter(ImageFilter.BLUR)\n",
    "\timage2 = ImageOps.equalize(image2)\n",
    "\tmatrix = get_matrix(image2)\n",
    "\tDCT_matrix = DCT(matrix)\n",
    "\tList = sub_matrix_to_list(DCT_matrix, part_size)\n",
    "\tmiddle = get_middle(List)\n",
    "\tcode2 = get_code(List, middle)\n",
    "\treturn comp_code(code1, code2)"
   ]
  },
  {
   "cell_type": "code",
   "execution_count": 21,
   "metadata": {},
   "outputs": [
    {
     "name": "stdout",
     "output_type": "stream",
     "text": [
      "3 16\n4 20\n"
     ]
    },
    {
     "name": "stdout",
     "output_type": "stream",
     "text": [
      "5 31\n6 0\n"
     ]
    },
    {
     "name": "stdout",
     "output_type": "stream",
     "text": [
      "7 24\n"
     ]
    },
    {
     "name": "stdout",
     "output_type": "stream",
     "text": [
      "8 26\n"
     ]
    },
    {
     "name": "stdout",
     "output_type": "stream",
     "text": [
      "9 2\n10 42\n11 20\n"
     ]
    },
    {
     "name": "stdout",
     "output_type": "stream",
     "text": [
      "12 36\n13 20\n14 44\n"
     ]
    }
   ],
   "source": [
    "path1='./img/1.png'\n",
    "img1=Image.open(path1,'r')\n",
    "for j in range(3,15):\n",
    "    path2='./img/%s.png'%j\n",
    "    img2=Image.open(path2,'r')\n",
    "    # 感知hash算法，如果值小于5，说明两张图片相似，如果大于10，两张图片不相似\n",
    "    print(j,classify_DCT(img1,img2))"
   ]
  },
  {
   "cell_type": "heading",
   "metadata": {},
   "level": 1,
   "source": [
    "差异哈希算法计算图像相似度"
   ]
  },
  {
   "cell_type": "code",
   "execution_count": 30,
   "metadata": {},
   "outputs": [],
   "source": [
    "from PIL import Image #导入pillow库下的image模块，主要用于图片缩放、图片灰度化、获取像素灰度值\n",
    "\n",
    "def dhash(filepath, hash_size = 8):\n",
    "  image=Image.open(filepath,'r')\n",
    "  # Grayscale and shrink the image in one step.\n",
    "  image = image.convert('L').resize(\n",
    "    (hash_size + 1, hash_size),\n",
    "    # Image.ANTIALIAS,\n",
    "    #   Image.BICUBIC #双立方滤波。在输入图像的4*4矩阵上进行立方插值。\n",
    "      Image.BILINEAR #双线性内插滤波。在输入图像的2*2矩阵上进行线性插值。\n",
    "  )\n",
    "  pixels = list(image.getdata())\n",
    "  \n",
    "  # Compare adjacent pixels.\n",
    "  difference = []\n",
    "  for row in range(hash_size):\n",
    "    for col in range(hash_size):\n",
    "      pixel_left = image.getpixel((col, row))\n",
    "      pixel_right = image.getpixel((col + 1, row))\n",
    "      difference.append(pixel_left > pixel_right)\n",
    "  \n",
    "  # Convert the binary array to a hexadecimal string.\n",
    "  decimal_value = 0\n",
    "  hex_string = []\n",
    "  for index, value in enumerate(difference):\n",
    "    if value:\n",
    "      decimal_value += 2**(index % 8)\n",
    "    if (index % 8) == 7:\n",
    "      hex_string.append(hex(decimal_value)[2:].rjust(2, '0'))\n",
    "      decimal_value = 0\n",
    "  return ''.join(hex_string)\n",
    "\n",
    "def Diff(dhash1, dhash2):\n",
    "    num=0\n",
    "    for i,j in zip(dhash1,dhash2):\n",
    "        if i!=j:\n",
    "            num+=1\n",
    "    return num\n",
    "\n",
    "def DHash(imagepath1, imagepath2):\n",
    "    hash1 = dhash(imagepath1)\n",
    "    hash2 = dhash(imagepath2)\n",
    "    num = 0\n",
    "    for i, j in zip(hash1, hash2):\n",
    "        if i != j:\n",
    "            num += 1\n",
    "    return num"
   ]
  },
  {
   "cell_type": "code",
   "execution_count": 49,
   "metadata": {
    "collapsed": false
   },
   "outputs": [
    {
     "name": "stdout",
     "output_type": "stream",
     "text": [
      "17 12\n18 10\n"
     ]
    }
   ],
   "source": [
    "i=16\n",
    "filepath1='./img/%s.png'%i\n",
    "for j in range(i+1,19):\n",
    "    filepath2='./img/%s.png'%j\n",
    "    # 感知hash算法，如果值小于5，说明两张图片相似，如果大于10，两张图片不相似\n",
    "    print(j,DHash(filepath1,filepath2))"
   ]
  },
  {
   "cell_type": "code",
   "execution_count": 7,
   "metadata": {},
   "outputs": [
    {
     "name": "stdout",
     "output_type": "stream",
     "text": [
      "['./img/13.png', './img/14.png', './img/15.png', './img/16.png', './img/17.png', './img/18.png', './img/19.png', './img/20.png', './img/21.png']\n"
     ]
    },
    {
     "name": "stdout",
     "output_type": "stream",
     "text": [
      "['./img/1.png', './img/2.png', './img/3.png', './img/4.png', './img/5.png', './img/6.png', './img/7.png', './img/8.png', './img/9.png']\n31017 9 9\n"
     ]
    },
    {
     "name": "stdout",
     "output_type": "stream",
     "text": [
      "./img/13.png ./img/9.png\n./img/14.png ./img/1.png\n"
     ]
    },
    {
     "name": "stdout",
     "output_type": "stream",
     "text": [
      "./img/16.png ./img/2.png\n"
     ]
    },
    {
     "name": "stdout",
     "output_type": "stream",
     "text": [
      "./img/17.png ./img/4.png\n"
     ]
    },
    {
     "name": "stdout",
     "output_type": "stream",
     "text": [
      "./img/20.png ./img/7.png\n./img/21.png ./img/3.png\n"
     ]
    },
    {
     "name": "stdout",
     "output_type": "stream",
     "text": [
      "-12.655050039291382\n"
     ]
    }
   ],
   "source": [
    "from collections import defaultdict\n",
    "import time\n",
    "def drop_same_image(images):\n",
    "    drop_image_index=[]\n",
    "    for i in range(0,len(images)-1):\n",
    "        image1=images[i]\n",
    "        for j in range(i+1,len(images)):\n",
    "            image2=images[j]\n",
    "            score=DHash(image1,image2)\n",
    "            if score:\n",
    "                drop_image_index.append(images[j])\n",
    "    imagess=[a for a in images if a not in drop_image_index]\n",
    "    return imagess\n",
    "\n",
    "scores=defaultdict(int)\n",
    "a=time.time()\n",
    "for id,image in imagesdict.items():\n",
    "    author_image=image[\"author_image\"]\n",
    "    author_image=drop_same_image(author_image)\n",
    "    content_image=image[\"content_image\"]\n",
    "    content_image=drop_same_image(content_image)\n",
    "    for i,image1 in enumerate(author_image):\n",
    "        for j,image2 in enumerate(content_image):\n",
    "            score=DHash(image1,image2)\n",
    "            if score:\n",
    "                scores[id]+=1\n",
    "                print(image1,image2)\n",
    "                del content_image[j]\n",
    "                continue\n",
    "print(a-time.time())"
   ]
  },
  {
   "cell_type": "code",
   "execution_count": 191,
   "metadata": {},
   "outputs": [
    {
     "name": "stdout",
     "output_type": "stream",
     "text": [
      "10\n"
     ]
    },
    {
     "name": "stdout",
     "output_type": "stream",
     "text": [
      "[False, False, False, False, False, False, False, False, False]\n"
     ]
    },
    {
     "name": "stdout",
     "output_type": "stream",
     "text": [
      "[False, False, False, False, False, False, False, False]\n"
     ]
    },
    {
     "name": "stdout",
     "output_type": "stream",
     "text": [
      "[False, False, False, False, False, False, False]\n"
     ]
    },
    {
     "name": "stdout",
     "output_type": "stream",
     "text": [
      "[False, False, False, False, False, False]\n"
     ]
    },
    {
     "name": "stdout",
     "output_type": "stream",
     "text": [
      "[False, False, False, False, False]\n"
     ]
    },
    {
     "name": "stdout",
     "output_type": "stream",
     "text": [
      "[False, False, False, False]\n[False, False, False]\n"
     ]
    },
    {
     "name": "stdout",
     "output_type": "stream",
     "text": [
      "[False, False]\n[True]\n-3.67590594291687\n"
     ]
    }
   ],
   "source": [
    "from queue import PriorityQueue \n",
    "from functools import partial\n",
    "q = PriorityQueue() \n",
    "import time\n",
    "a=time.time()\n",
    "for id,image in imagesdict.items():\n",
    "    author_image=image[\"author_image\"]\n",
    "    print(len(author_image))\n",
    "    for i in range(len(author_image)-1): \n",
    "        func=partial(DHash,author_image[i])\n",
    "        iters=map(func,author_image[i+1:])\n",
    "        print(list(iters))\n",
    "print(a-time.time())"
   ]
  },
  {
   "cell_type": "heading",
   "metadata": {},
   "level": 1,
   "source": [
    "结合灰度颜色直方图的相似度算法和灰度共生矩阵的图像相似度算法计算图像的相似度"
   ]
  },
  {
   "cell_type": "code",
   "execution_count": 32,
   "metadata": {},
   "outputs": [],
   "source": [
    "imagesdict={31017: {'content_image': ['./img/1.png', './img/2.png', './img/3.png', './img/4.png', './img/5.png', './img/6.png', './img/7.png', './img/8.png', './img/9.png', './img/10.png', './img/11.png', './img/12.png'], 'author_image': ['./img/13.png', './img/14.png', './img/15.png', './img/16.png', './img/17.png', './img/18.png', './img/19.png', './img/20.png', './img/21.png', './img/22.png']}}\n"
   ]
  },
  {
   "cell_type": "code",
   "execution_count": 53,
   "metadata": {},
   "outputs": [],
   "source": [
    "import cv2 as cv\n",
    "import math\n",
    "import numpy as np\n",
    "from collections import defaultdict\n",
    "#定义最大灰度级数\n",
    "gray_level = 8\n",
    "\n",
    "def maxGrayLevel(img):\n",
    "    max_gray_level=0\n",
    "    (height,width)=img.shape\n",
    "    for y in range(height):\n",
    "        for x in range(width):\n",
    "            if img[y][x] > max_gray_level:\n",
    "                max_gray_level = img[y][x]\n",
    "    return max_gray_level+1\n",
    "\n",
    "def getGlcm(input,d_x,d_y):\n",
    "    if d_x<0:\n",
    "        start=-d_x\n",
    "    else:start=0\n",
    "    srcdata=input.copy()\n",
    "    ret=[[0.0 for i in range(gray_level)] for j in range(gray_level)]\n",
    "    (height,width) = input.shape\n",
    "    max_gray_level=maxGrayLevel(input)\n",
    "\n",
    "    #若灰度级数大于gray_level，则将图像的灰度级缩小至gray_level，减小灰度共生矩阵的大小\n",
    "    if max_gray_level > gray_level:\n",
    "        for j in range(height):\n",
    "            for i in range(width):\n",
    "                srcdata[j][i] = srcdata[j][i]*gray_level / max_gray_level\n",
    "\n",
    "    for j in range(height-d_y):\n",
    "        for i in range(start,width-d_x):\n",
    "            rows = srcdata[j][i-start]\n",
    "            cols = srcdata[j + d_y][i+d_x]\n",
    "            ret[rows][cols]+=1.0\n",
    "\n",
    "    for i in range(gray_level):\n",
    "        for j in range(gray_level):\n",
    "            ret[i][j]/=float(height*width)\n",
    "\n",
    "    return ret\n",
    "\n",
    "def feature_computer(p):\n",
    "    Con=0.0# 对比度反映图像的清晰程度。\n",
    "    Ent=0.0 # 熵是对图像纹理复杂程度和非均匀程度的一种数学度量。\n",
    "    Asm=0.0 #角二阶矩是灰度共生矩阵各个元素值的平方和，反映图像纹理的粗细程度和灰度的分布情况。\n",
    "    Idm=0.0 # 反差分矩阵用来度量图像局部纹理变化的多少。\n",
    "    for i in range(gray_level):\n",
    "        for j in range(gray_level):\n",
    "            Con+=(i-j)*(i-j)*p[i][j]\n",
    "            Asm+=p[i][j]*p[i][j]\n",
    "            Idm+=p[i][j]/(1+(i-j)*(i-j))\n",
    "            if p[i][j]>0.0:\n",
    "                Ent+=p[i][j]*math.log(p[i][j])\n",
    "    return [Asm,Con,-Ent,Idm]\n",
    "\n",
    "def GrayCoOccur(filepath):\n",
    "    \"\"\"基于灰度共生矩阵的图像相似度算法\"\"\"\n",
    "    img_gray=changeGray(filepath)\n",
    "    glcms=[]\n",
    "    d=1 #像素移动距离\n",
    "    for x,y in [[d,0],[0,d],[d,d],[-d,d]]:\n",
    "        glcm=getGlcm(img_gray, x,y)\n",
    "        glcms.append(glcm)\n",
    "    \n",
    "    scores=[]\n",
    "    for score in glcms:\n",
    "        feature=feature_computer(score)\n",
    "        scores.extend(feature)\n",
    "    return scores\n",
    "\n",
    "def SimGrayCoOccur(score1,score2):\n",
    "    vector1=np.array(score1)\n",
    "    vector2=np.array(score2)\n",
    "    # sim=np.dot(vector1,vector2)/(np.linalg.norm(vector1)*(np.linalg.norm(vector2)))\n",
    "    sim=np.linalg.norm(vector1-vector2,ord=1)\n",
    "    return sim\n",
    "    \n",
    "\n",
    "def changeGray(filepath,size=256):\n",
    "    img = cv.imread(filepath)\n",
    "    img_shape=img.shape\n",
    "    # int(img_shape[1]/2),int(img_shape[0]/2)\n",
    "    img=cv.cvtColor(img, cv.COLOR_BGR2GRAY)\n",
    "    img_gray=cv.resize(img,(size,size),interpolation=cv.INTER_CUBIC)\n",
    "    return img_gray\n",
    "\n",
    "def GrayHis(filepath,size):\n",
    "    \"\"\"基于灰度颜色直方图的相似度算法\"\"\"\n",
    "    img_gray=changeGray(filepath,size=size)\n",
    "    h,w=img_gray.shape\n",
    "    grayhis=defaultdict(int)\n",
    "    for i in range(h):\n",
    "        for j in range(w):\n",
    "            grayhis[img_gray[i][j]]+=1\n",
    "    \n",
    "    grayhis=sorted(grayhis.items(),key=lambda key:key[0])\n",
    "    grayhis={a:b/float(h*w) for a,b in grayhis}\n",
    "    return grayhis\n",
    "\n",
    "def SimGrayHis(gray1,gray2):\n",
    "    gray1_sum=sum(gray1.values())\n",
    "    gray2_sum=sum(gray2.values())\n",
    "    graysum=0\n",
    "    for i in range(256):\n",
    "        graysum+=math.sqrt(gray2.get(i,0)*gray1.get(i,0))\n",
    "    sim=1-math.sqrt(1-graysum/float(gray1_sum*gray2_sum))\n",
    "    return sim\n"
   ]
  },
  {
   "cell_type": "code",
   "execution_count": 63,
   "metadata": {
    "collapsed": true
   },
   "outputs": [
    {
     "name": "stdout",
     "output_type": "stream",
     "text": [
      "0.8992923025824633 0.16871218099194485\n3.2474408915531536\n"
     ]
    }
   ],
   "source": [
    "filepath1='./img/9.png'\n",
    "filepath2='./img/8.png'\n",
    "gray1=GrayHis(filepath1,128)\n",
    "gray2=GrayHis(filepath2,128)\n",
    "sim1=SimGrayHis(gray1,gray2)\n",
    "sim2=SimGrayCoOccur(GrayCoOccur(filepath1),GrayCoOccur(filepath2))\n",
    "k=0.5\n",
    "print(sim1,sim2)\n",
    "sim=k*sim1+(1-k)*(1/float(0.01+sim2))\n",
    "print(sim)\n"
   ]
  },
  {
   "cell_type": "code",
   "execution_count": 63,
   "metadata": {},
   "outputs": [],
   "source": []
  },
  {
   "cell_type": "code",
   "execution_count": 175,
   "metadata": {},
   "outputs": [],
   "source": [
    ""
   ]
  },
  {
   "cell_type": "code",
   "execution_count": 125,
   "metadata": {},
   "outputs": [],
   "source": [
    ""
   ]
  },
  {
   "cell_type": "code",
   "execution_count": 103,
   "metadata": {},
   "outputs": [],
   "source": []
  },
  {
   "cell_type": "code",
   "execution_count": null,
   "metadata": {},
   "outputs": [],
   "source": []
  }
 ],
 "metadata": {
  "kernelspec": {
   "display_name": "Python 2",
   "language": "python",
   "name": "python2"
  },
  "language_info": {
   "codemirror_mode": {
    "name": "ipython",
    "version": 2
   },
   "file_extension": ".py",
   "mimetype": "text/x-python",
   "name": "python",
   "nbconvert_exporter": "python",
   "pygments_lexer": "ipython2",
   "version": "2.7.6"
  }
 },
 "nbformat": 4,
 "nbformat_minor": 0
}
